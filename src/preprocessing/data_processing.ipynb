{
 "cells": [
  {
   "cell_type": "code",
   "execution_count": null,
   "metadata": {},
   "outputs": [],
   "source": [
    "# library imports\n",
    "import pandas as pd\n",
    "import itertools\n",
    "from scipy import sparse\n",
    "import torch_geometric.transforms as T\n",
    "from rna_struct_utils import codonidx_to_ntsequence, mergeNTGraphToCodonGraph, getRNASS\n",
    "from graph_processing_utils import RiboDataset"
   ]
  },
  {
   "cell_type": "code",
   "execution_count": null,
   "metadata": {},
   "outputs": [],
   "source": [
    "id_to_codon = {idx:''.join(el) for idx, el in enumerate(itertools.product(['A', 'T', 'C', 'G'], repeat=3))}\n",
    "codon_to_id = {v:k for k,v in id_to_codon.items()}\n",
    "\n",
    "# load training and testing files\n",
    "df_train_path = 'ribogl/src/data/train.csv'\n",
    "df_test_path = 'ribogl/src/data/test.csv'\n",
    "\n",
    "# load data\n",
    "df_train = pd.read_csv(df_train_path)\n",
    "df_test = pd.read_csv(df_test_path)\n",
    "\n",
    "# apply codonidx_to_ntsequence on codon_sequence column to get nt_sequence column\n",
    "df_train['nt_sequence'] = df_train['sequence'].apply(lambda x: codonidx_to_ntsequence(x))"
   ]
  },
  {
   "cell_type": "code",
   "execution_count": null,
   "metadata": {},
   "outputs": [],
   "source": [
    "'''\n",
    "1. generate mRNA secondary structures and convert them to graphs\n",
    "2. convert nucleotide graph into a codon graph\n",
    "3. save the graphs for all the genes\n",
    "'''\n",
    "\n",
    "# get sequences\n",
    "train_seqs = df_train['sequence'].tolist()\n",
    "test_seqs = df_test['sequence'].tolist()\n",
    "\n",
    "# train secondary structures\n",
    "ss_vecs_sparse_train = []\n",
    "\n",
    "for i in range(len(train_seqs)):\n",
    "    print(i, len(train_seqs))\n",
    "    ss_adj = getRNASS(train_seqs[i])\n",
    "    codon_ss_graph = mergeNTGraphToCodonGraph(ss_adj)\n",
    "    ss_vecs_sparse_train.append(sparse.csr_matrix(codon_ss_graph))\n",
    "\n",
    "df_train['codon_RNA_SS'] = ss_vecs_sparse_train\n",
    "\n",
    "# test secondary structures\n",
    "ss_vecs_sparse_test = []\n",
    "\n",
    "for i in range(len(test_seqs)):\n",
    "    print(i, len(test_seqs))\n",
    "    ss_adj = getRNASS(test_seqs[i])\n",
    "    codon_ss_graph = mergeNTGraphToCodonGraph(ss_adj)\n",
    "    ss_vecs_sparse_test.append(sparse.csr_matrix(codon_ss_graph))\n",
    "\n",
    "df_train.to_pickle('ribogl/src/data/Train_RNA_SS.pkl')\n",
    "df_test.to_pickle('ribogl/src/data/Test_RNA_SS.pkl')\n",
    "\n",
    "print(\"Made mRNA secondary structures for train and test\")"
   ]
  },
  {
   "cell_type": "code",
   "execution_count": null,
   "metadata": {},
   "outputs": [],
   "source": [
    "# convert the graphs into torch_geometric data objects\n",
    "feature_folder = 'ribogl/src/data/'\n",
    "data_folder = 'ribogl/src/data/'\n",
    "random_walk_length = 32\n",
    "\n",
    "transforms = T.Compose([T.AddRandomWalkPE(walk_length=random_walk_length)])\n",
    "\n",
    "out_folder = 'ribogl/src/data/LiverGraphs/' \n",
    "\n",
    "print(\"Train Process\")\n",
    "dat = RiboDataset('train', feature_folder, data_folder, transforms, out_folder=out_folder)\n",
    "print(\"Test Process\")\n",
    "dat = RiboDataset('test', feature_folder, data_folder, transforms, out_folder=out_folder)"
   ]
  }
 ],
 "metadata": {
  "language_info": {
   "name": "python"
  }
 },
 "nbformat": 4,
 "nbformat_minor": 2
}
