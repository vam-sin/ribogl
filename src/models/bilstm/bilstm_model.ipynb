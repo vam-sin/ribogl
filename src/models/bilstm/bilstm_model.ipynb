{
 "cells": [
  {
   "cell_type": "code",
   "execution_count": null,
   "metadata": {},
   "outputs": [],
   "source": [
    "# libraries\n",
    "from bilstm_utils import trainLSTM, FileRiboDataset # custom dataset and trainer\n",
    "from torch.utils.data import DataLoader\n",
    "import argparse\n",
    "from pytorch_lightning.loggers import WandbLogger\n",
    "import argparse\n",
    "import pytorch_lightning as pl"
   ]
  },
  {
   "cell_type": "code",
   "execution_count": null,
   "metadata": {},
   "outputs": [],
   "source": [
    "# take in command line arguments for the initialization seed value and the dropout percentage\n",
    "parser = argparse.ArgumentParser()\n",
    "parser.add_argument('--seed', type=int, default=42, help='seed value') # additional rna folding features with the category of the nts\n",
    "parser.add_argument('--dropout', type=float, default=0.1, help='seed value') # additional rna folding features with the category of the nts\n",
    "args = parser.parse_args()\n",
    "\n",
    "# set seed for reproducibility\n",
    "pl.seed_everything(args.seed)"
   ]
  },
  {
   "cell_type": "code",
   "execution_count": null,
   "metadata": {},
   "outputs": [],
   "source": [
    "# training arguments\n",
    "proc_data_folder = 'LiverGraphs/'\n",
    "tot_epochs = 50\n",
    "batch_size = 1\n",
    "dropout_val = args.dropout\n",
    "annot_thresh = 0.3\n",
    "longZerosThresh_val = 20\n",
    "percNansThresh_val = 0.05\n",
    "lr = 1e-4\n",
    "dilation = True \n",
    "features = ['embedding']\n",
    "features_str = '_'.join(features)\n",
    "model_name = 'LSTM DS: Liver ' + '[' + str(annot_thresh) + ', ' + str(longZerosThresh_val) + ', ' + str(percNansThresh_val) + ', BS ' + str(batch_size) + ', D ' + str(dropout_val) + ' E ' + str(tot_epochs) + ' LR ' + str(lr) + ' Seed: ' + str(args.seed) + '] F: ' + features_str\n",
    "\n",
    "# model output path\n",
    "save_loc = 'saved_models/' + model_name"
   ]
  },
  {
   "cell_type": "code",
   "execution_count": null,
   "metadata": {},
   "outputs": [],
   "source": [
    "# start a new wandb run to track this script\n",
    "wandb_logger = WandbLogger(log_model=\"all\", project=\"GCN_MM\", name=model_name)\n",
    "\n",
    "# load datasets train and test\n",
    "train_ds = FileRiboDataset(proc_data_folder, 'train', shuffle=True)\n",
    "test_ds = FileRiboDataset(proc_data_folder, 'test', shuffle=False)\n",
    "\n",
    "# create dataloaders using X and y\n",
    "train_loader = DataLoader(train_ds, batch_size=1, shuffle=True)\n",
    "test_loader = DataLoader(test_ds, batch_size=1, shuffle=False)\n",
    "\n",
    "print(\"Number of samples in train dataset: \", len(train_ds))\n",
    "print(\"Number of samples in test dataset: \", len(test_ds))"
   ]
  },
  {
   "cell_type": "code",
   "execution_count": null,
   "metadata": {},
   "outputs": [],
   "source": [
    "# train model\n",
    "model, result = trainLSTM(tot_epochs, batch_size, lr, save_loc, wandb_logger, train_loader, test_loader, dropout_val)"
   ]
  }
 ],
 "metadata": {
  "language_info": {
   "name": "python"
  }
 },
 "nbformat": 4,
 "nbformat_minor": 2
}
