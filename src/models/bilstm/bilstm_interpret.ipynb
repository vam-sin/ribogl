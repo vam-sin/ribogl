{
 "cells": [
  {
   "cell_type": "code",
   "execution_count": null,
   "metadata": {},
   "outputs": [],
   "source": [
    "# libraries\n",
    "import numpy as np\n",
    "import pandas as pd\n",
    "import torch\n",
    "from captum.attr import LayerGradientXActivation\n",
    "from bilstm_utils import LSTM_Captum, LSTMPred # custom dataset and trainer\n",
    "from torch.utils.data import DataLoader\n",
    "import pytorch_lightning as pl\n",
    "import h5py\n",
    "from tqdm import tqdm\n",
    "# suppress warnings\n",
    "import warnings\n",
    "warnings.filterwarnings(\"ignore\")\n",
    "\n",
    "device = torch.device(\"cuda\" if torch.cuda.is_available() else \"cpu\")"
   ]
  },
  {
   "cell_type": "code",
   "execution_count": null,
   "metadata": {},
   "outputs": [],
   "source": [
    "# load a sample from the test folder\n",
    "feature_folder = 'USeqPlusRW/test/'\n",
    "# feature_folder = '/nfs_home/nallapar/final/test/'\n",
    "\n",
    "# load test file\n",
    "exp_dat = exp_dat = pd.read_csv('data/test_OnlyLiver_Cov_0.3_NZ_20_PercNan_0.05.csv')\n",
    "# exp_dat = pd.read_csv('/nfs_home/nallapar/final/ribogl/src/data/test_OnlyLiver_Cov_0.3_NZ_20_PercNan_0.05.csv')\n",
    "\n",
    "# save_loc = '/nfs_home/nallapar/final/ribogl/src/models/bilstm/saved_models/LSTM DS: Liver [0.3, 20, 0.05, BS 1, D 0.3 E 50 LR 0.0001 Seed: 1] F: embedding/epoch=19-step=111820.ckpt'\n",
    "save_loc = 'saved_models/LSTM DS: Liver [0.3, 20, 0.05, BS 1, D 0.3 E 50 LR 0.0001 Seed: 1] F: embedding/epoch=19-step=111820.ckpt'\n",
    "\n",
    "# load model \n",
    "dropout_val = 0.3\n",
    "num_epochs = 50\n",
    "bs = 1\n",
    "lr = 1e-3\n",
    "model = LSTM_Captum.load_from_checkpoint(save_loc, dropout_val=dropout_val, num_epochs=num_epochs, bs=bs, lr=lr)\n",
    "model_pred = LSTMPred.load_from_checkpoint(save_loc, dropout_val=dropout_val, num_epochs=num_epochs, bs=bs, lr=lr)"
   ]
  },
  {
   "cell_type": "code",
   "execution_count": null,
   "metadata": {
    "tags": [
     "parameters"
    ]
   },
   "outputs": [],
   "source": [
    "part = 0"
   ]
  },
  {
   "cell_type": "code",
   "execution_count": null,
   "metadata": {},
   "outputs": [],
   "source": [
    "# Generate explanation for the node at index `10`:\n",
    "device = torch.device('cuda' if torch.cuda.is_available() else 'cpu')\n",
    "\n",
    "total_num_sample = len(list(exp_dat['transcript']))\n",
    "\n",
    "# dataset split into 32 parts, get start and stop of the part\n",
    "start = int(part * total_num_sample / 32)\n",
    "stop = int((part + 1) * total_num_sample / 32)\n",
    "\n",
    "print(\"start: \", start)\n",
    "print(\"stop: \", stop)\n",
    "\n",
    "print(\"total samples: \", len(list(exp_dat['transcript'])))\n",
    "\n",
    "transcripts_list = list(exp_dat['transcript'])[start:stop]\n",
    "\n",
    "part_length = len(transcripts_list)\n",
    "\n",
    "out_folder_path = 'final_bilstm_int/'"
   ]
  },
  {
   "cell_type": "code",
   "execution_count": null,
   "metadata": {},
   "outputs": [],
   "source": [
    "# captum model\n",
    "lxg = LayerGradientXActivation(model, model.embedding)"
   ]
  },
  {
   "cell_type": "code",
   "execution_count": null,
   "metadata": {},
   "outputs": [],
   "source": [
    "for sample_number in tqdm(range(start, stop)):\n",
    "    # remove model eval\n",
    "\n",
    "    file_name = feature_folder + 'sample_' + str(sample_number) + '.pt'\n",
    "\n",
    "    # load the sample\n",
    "    data = torch.load(file_name)\n",
    "\n",
    "    out_dict = {}\n",
    "    # load the sample\n",
    "    data = torch.load(file_name)\n",
    "    data.x = torch.tensor([int(k) for k in data.x['codon_seq']], dtype=torch.long)\n",
    "    data.y = data.y / torch.nansum(data.y)\n",
    "    data = data.to(device)\n",
    "\n",
    "    attr_matrix = []\n",
    "    for i in tqdm(range(len(data.x))):\n",
    "        index_val = torch.tensor([i])\n",
    "\n",
    "        attr_ind = lxg.attribute(inputs=data.x, additional_forward_args=index_val)\n",
    "\n",
    "        attr_ind = torch.sum(attr_ind, dim=1)\n",
    "\n",
    "        attr_ind = attr_ind.cpu().detach().numpy()\n",
    "\n",
    "        attr_matrix.append(attr_ind)\n",
    "\n",
    "    attr_matrix = np.array(attr_matrix)\n",
    "\n",
    "    # save the attributions\n",
    "    out_dict['attributions'] = attr_matrix\n",
    "    out_dict['sample_number'] = sample_number\n",
    "    out_dict['x_input'] = data.x.detach().cpu().numpy()\n",
    "    out_dict['y_true'] = data.y.detach().cpu().numpy()\n",
    "\n",
    "    y_pred = model_pred(data.x)\n",
    "\n",
    "    out_dict['y_pred'] = y_pred.detach().cpu().numpy()\n",
    "    # add the transcript\n",
    "    out_dict['transcript'] = transcripts_list[sample_number-start]\n",
    "\n",
    "    # save the out_dict\n",
    "    out_file_name = out_folder_path + 'sample_' + str(sample_number) + '.npz'\n",
    "    np.savez_compressed(out_file_name, out_dict)\n",
    "\n",
    "    \n"
   ]
  },
  {
   "cell_type": "code",
   "execution_count": null,
   "metadata": {},
   "outputs": [],
   "source": []
  }
 ],
 "metadata": {
  "kernelspec": {
   "display_name": "riboclette",
   "language": "python",
   "name": "python3"
  },
  "language_info": {
   "codemirror_mode": {
    "name": "ipython",
    "version": 3
   },
   "file_extension": ".py",
   "mimetype": "text/x-python",
   "name": "python",
   "nbconvert_exporter": "python",
   "pygments_lexer": "ipython3",
   "version": "3.11.5"
  }
 },
 "nbformat": 4,
 "nbformat_minor": 2
}
