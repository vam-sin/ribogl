{
 "cells": [
  {
   "cell_type": "code",
   "execution_count": null,
   "metadata": {},
   "outputs": [],
   "source": [
    "# libraries\n",
    "import numpy as np\n",
    "import pandas as pd\n",
    "import torch\n",
    "from captum.attr import LayerGradientXActivation\n",
    "from bilstm_utils import LSTM_Captum, LSTMPred # custom dataset and trainer\n",
    "from tqdm import tqdm\n",
    "# suppress warnings\n",
    "import warnings\n",
    "warnings.filterwarnings(\"ignore\")\n",
    "\n",
    "device = torch.device(\"cuda\" if torch.cuda.is_available() else \"cpu\")"
   ]
  },
  {
   "cell_type": "code",
   "execution_count": null,
   "metadata": {},
   "outputs": [],
   "source": [
    "# set folder for the test liver graphs\n",
    "feature_folder = 'LiverGraphs/test/'\n",
    "\n",
    "# load testing set data file\n",
    "exp_dat = exp_dat = pd.read_csv('data/test_OnlyLiver_Cov_0.3_NZ_20_PercNan_0.05.csv')\n",
    "\n",
    "# location of the best checkpoint file for the bilstm model\n",
    "save_loc = 'saved_models/LSTM/best.ckpt'\n",
    "\n",
    "# load model \n",
    "dropout_val = 0.3\n",
    "num_epochs = 50\n",
    "bs = 1\n",
    "lr = 1e-3\n",
    "model = LSTM_Captum.load_from_checkpoint(save_loc, dropout_val=dropout_val, num_epochs=num_epochs, bs=bs, lr=lr)\n",
    "model_pred = LSTMPred.load_from_checkpoint(save_loc, dropout_val=dropout_val, num_epochs=num_epochs, bs=bs, lr=lr)"
   ]
  },
  {
   "cell_type": "code",
   "execution_count": null,
   "metadata": {},
   "outputs": [],
   "source": [
    "# set the device for the model\n",
    "device = torch.device('cuda' if torch.cuda.is_available() else 'cpu')\n",
    "\n",
    "# transcript information\n",
    "total_num_sample = len(list(exp_dat['transcript']))\n",
    "transcripts_list = list(exp_dat['transcript'])\n",
    "\n",
    "print(\"Number of testing samples: \", len(list(exp_dat['transcript'])))\n",
    "\n",
    "# set output path\n",
    "out_folder_path = 'final_bilstm_int/'"
   ]
  },
  {
   "cell_type": "code",
   "execution_count": null,
   "metadata": {},
   "outputs": [],
   "source": [
    "# captum model for conducting interpretability analysis\n",
    "lxg = LayerGradientXActivation(model, model.embedding)"
   ]
  },
  {
   "cell_type": "code",
   "execution_count": null,
   "metadata": {},
   "outputs": [],
   "source": [
    "for sample_number in tqdm(range(total_num_sample)):\n",
    "    # set the file name\n",
    "    file_name = feature_folder + 'sample_' + str(sample_number) + '.pt'\n",
    "\n",
    "    # load the sample\n",
    "    data = torch.load(file_name)\n",
    "\n",
    "    # set output dictionary\n",
    "    out_dict = {}\n",
    "\n",
    "    # load the sample\n",
    "    data = torch.load(file_name)\n",
    "    data.x = torch.tensor([int(k) for k in data.x['codon_seq']], dtype=torch.long)\n",
    "    data.y = data.y / torch.nansum(data.y)\n",
    "    data = data.to(device)\n",
    "\n",
    "    attr_matrix = []\n",
    "    for i in tqdm(range(len(data.x))):\n",
    "        index_val = torch.tensor([i])\n",
    "\n",
    "        attr_ind = lxg.attribute(inputs=data.x, additional_forward_args=index_val)\n",
    "\n",
    "        attr_ind = torch.sum(attr_ind, dim=1)\n",
    "\n",
    "        attr_ind = attr_ind.cpu().detach().numpy()\n",
    "\n",
    "        attr_matrix.append(attr_ind)\n",
    "\n",
    "    attr_matrix = np.array(attr_matrix)\n",
    "\n",
    "    # save the attributions\n",
    "    out_dict['attributions'] = attr_matrix\n",
    "    out_dict['sample_number'] = sample_number\n",
    "    out_dict['x_input'] = data.x.detach().cpu().numpy()\n",
    "    out_dict['y_true'] = data.y.detach().cpu().numpy()\n",
    "\n",
    "    # make model predictions\n",
    "    y_pred = model_pred(data.x)\n",
    "    \n",
    "    # save the predictions\n",
    "    out_dict['y_pred'] = y_pred.detach().cpu().numpy()\n",
    "\n",
    "    # add the transcript information\n",
    "    out_dict['transcript'] = transcripts_list[sample_number]\n",
    "\n",
    "    # save the out_dict\n",
    "    out_file_name = out_folder_path + 'sample_' + str(sample_number) + '.npz'\n",
    "    np.savez_compressed(out_file_name, out_dict)"
   ]
  }
 ],
 "metadata": {
  "kernelspec": {
   "display_name": "riboclette",
   "language": "python",
   "name": "python3"
  },
  "language_info": {
   "codemirror_mode": {
    "name": "ipython",
    "version": 3
   },
   "file_extension": ".py",
   "mimetype": "text/x-python",
   "name": "python",
   "nbconvert_exporter": "python",
   "pygments_lexer": "ipython3",
   "version": "3.11.5"
  }
 },
 "nbformat": 4,
 "nbformat_minor": 2
}
